{
 "cells": [
  {
   "cell_type": "markdown",
   "metadata": {},
   "source": [
    "# 🎯 Policy Gradient Tutorial: Solving CartPole with REINFORCE Algorithm  \n",
    "\n",
    "Welcome to this tutorial on **Policy Gradient algorithms**, a fundamental approach in reinforcement learning (RL). This notebook is designed to provide a clear, hands-on guide to implementing and understanding policy gradient methods, specifically applied to the popular **CartPole environment** from OpenAI's Gym. 🚀  \n",
    "\n",
    "We are going to implement the **REINFORCE algorithm** introduced in the following paper:  \n",
    "📜 Williams, R.J. *Simple statistical gradient-following algorithms for connectionist reinforcement learning*. *Mach Learn* **8**, 229–256 (1992). [DOI Link](https://doi.org/10.1007/BF00992696)  \n",
    "\n",
    "---\n",
    "\n",
    "## 🌟 What You'll Learn  \n",
    "\n",
    "In this tutorial, you will:  \n",
    "- 🧠 **Understand** the core principles behind policy gradient algorithms.  \n",
    "- 💻 **Implement** a policy gradient method from scratch using Python.  \n",
    "- 🎮 **Train** an agent to balance a pole on a cart in the CartPole environment.  \n",
    "- 📊 **Gain insights** into the advantages and limitations of policy gradient methods in reinforcement learning.  \n",
    "\n",
    "Whether you're a beginner in RL or looking to solidify your understanding of policy-based methods, this notebook aims to bridge the gap between theory and practice.  \n",
    "\n",
    "---\n",
    "\n",
    "## 👨‍💻 About the Author  \n",
    "\n",
    "This tutorial was created by **Salar Basiri**, a PhD student specializing in **Control and Optimization** at the **University of Illinois at Urbana-Champaign**. 📚  \n",
    "\n",
    "Feel free to reach out at:  \n",
    "📧 **salarbsr.1996 [at] gmail** for feedback, questions, or collaborations!  \n",
    "\n",
    "---\n",
    "\n",
    "✨ **Let’s dive in and learn reinforcement learning by solving CartPole!** 🎉\n"
   ]
  },
  {
   "cell_type": "markdown",
   "metadata": {},
   "source": [
    "# 🧠 Understanding the REINFORCE Algorithm  \n",
    "\n",
    "The **REINFORCE algorithm** is a fundamental approach in policy gradient methods for reinforcement learning. It provides a way to optimize policies by estimating the gradient of the expected return with respect to the policy parameters.\n",
    "\n",
    "---\n",
    "\n",
    "## 📜 Mathematical Derivation  \n",
    "\n",
    "Let **τ(1), ..., τ(n)** be *n* empirical trajectory samples obtained by running the policy **πθ** for *n* episodes, each with **T** time steps. The objective is to maximize the expected return, denoted as **η(θ)**:  \n",
    "\n",
    "\n",
    "\n",
    "\n",
    "$\\eta(\\theta) = \\mathbb{E}_{\\tau \\sim P_\\theta} [f(\\tau)]$,\n",
    "\n",
    "\n",
    "where **f(τ)** is a reward function associated with trajectory **τ**, and **Pθ(τ)** represents the probability of the trajectory under the current policy.\n",
    "\n",
    "The gradient of **η(θ)** with respect to the policy parameters **θ** can be written as:  \n",
    "\n",
    "$\n",
    "\\nabla_\\theta \\eta(\\theta) = \\nabla_\\theta \\mathbb{E}_{\\tau \\sim P_\\theta} [f(\\tau)] = \\mathbb{E}_{\\tau \\sim P_\\theta} [\\nabla_\\theta \\log P_\\theta(\\tau) \\cdot f(\\tau)].\n",
    "$\n",
    "\n",
    "---\n",
    "\n",
    "## 🔢 Gradient Estimation  \n",
    "\n",
    "Using **n** empirical samples from **Pθ**, we estimate the gradient as:\n",
    "\n",
    "$\n",
    "\\nabla_\\theta \\eta(\\theta) \\approx \\frac{1}{n} \\sum_{i=1}^{n} \\nabla_\\theta \\log P_\\theta(\\tau^{(i)}) \\cdot f(\\tau^{(i)}),\n",
    "$\n",
    "\n",
    "where:  \n",
    "- **τ(i)** is the *i-th* trajectory sampled from the policy.  \n",
    "- **log Pθ(τ(i))** is the log probability of the trajectory under the policy **πθ**.  \n",
    "- **f(τ(i))** is the return (cumulative reward) for trajectory **τ(i)**.\n",
    "\n",
    "---\n",
    "\n",
    "## 🔍 Decomposing Log Probability  \n",
    "\n",
    "Here, recall that **μ(s₀)** denotes the density of the initial state distribution **s₀**. It follows that:\n",
    "\n",
    "$\\log P_\\theta(\\tau) = \\log \\mu(s_0) + \\log \\pi_\\theta(a_0 | s_0) + \\log P_{s_0 a_0}(s_1) + \\log \\pi_\\theta(a_1 | s_1) + \\log P_{s_1 a_1}(s_2) + \\dots + \\log P_{s_{T-1} a_{T-1}}(s_T).$\n",
    "\n",
    "Taking the gradient with respect to θ, we obtain:\n",
    "$\\nabla_\\theta \\log P_\\theta(\\tau) = \\nabla_\\theta \\log \\pi_\\theta(a_0 | s_0) + \\nabla_\\theta \\log \\pi_\\theta(a_1 | s_1) + \\dots + \\nabla_\\theta \\log \\pi_\\theta(a_{T-1} | s_{T-1}).$\n",
    "\n",
    "This decomposition emphasizes that only the terms involving the policy πθ depend on the parameter θ, simplifying the computation.\n",
    "\n",
    "# 🔑 Final Gradient Expression  \n",
    "\n",
    "Finally, we arrive at the complete expression for the gradient of the expected return **η(θ)**:  \n",
    "\n",
    "\n",
    "$\\nabla_\\theta \\eta(\\theta) = \\nabla_\\theta \\mathbb{E}_{\\tau \\sim P_\\theta} [f(\\tau)] = \\mathbb{E}_{\\tau \\sim P_\\theta} \\left[ \\left( \\sum_{t=0}^{T-1} \\nabla_\\theta \\log \\pi_\\theta(a_t | s_t) \\right) \\cdot f(\\tau) \\right].$\n",
    "\n",
    "And we can estimate this expectation by sampling $N$ trajectories and taking the average.\n",
    "\n",
    "## 🚀 Key Insights  \n",
    "\n",
    "1. **Policy Gradient Theorem**: The REINFORCE algorithm leverages the relationship between the gradient of the expected return and the gradient of the policy's log-likelihood.  \n",
    "2. **Empirical Estimation**: The gradient is estimated using trajectories sampled directly from the policy, enabling model-free reinforcement learning.  \n",
    "3. **Scalability**: While simple and effective, REINFORCE suffers from high variance, often mitigated by techniques such as baseline subtraction.\n",
    "\n",
    "---\n",
    "\n",
    "**Let’s proceed to implement the REINFORCE algorithm and apply it to the CartPole environment! 🎉**\n"
   ]
  },
  {
   "cell_type": "markdown",
   "metadata": {},
   "source": [
    "## Importing Libraries"
   ]
  },
  {
   "cell_type": "code",
   "execution_count": 4,
   "metadata": {
    "id": "VVuNNUPkOErF"
   },
   "outputs": [],
   "source": [
    "import gym\n",
    "import numpy as np\n",
    "import torch\n",
    "import torch.nn as nn\n",
    "import torch.optim as optim\n",
    "from tqdm import tqdm\n",
    "from datetime import datetime\n",
    "import time\n",
    "import keyboard\n",
    "from torch.utils.tensorboard import SummaryWriter\n"
   ]
  },
  {
   "cell_type": "markdown",
   "metadata": {},
   "source": [
    "## Creating the cartpole environment"
   ]
  },
  {
   "attachments": {
    "image.png": {
     "image/png": "[encoded data removed]"
    }
   },
   "cell_type": "markdown",
   "metadata": {},
   "source": [
    "# 🏋️‍♂️ CartPole Environment Overview\n",
    "\n",
    "The **CartPole** environment is one of the classic problems used to demonstrate reinforcement learning (RL) algorithms. In this environment, the objective is to balance a pole on a cart by applying forces to the cart, keeping the pole upright for as long as possible. The problem is a typical example of a *control problem* where the agent learns to make decisions to maintain stability in a dynamic system.\n",
    "\n",
    "![image.png](attachment:image.png)\n",
    "\n",
    "## 🌟 Key Elements of the CartPole Problem\n",
    "\n",
    "- **Cart**: The cart moves horizontally along a straight track. It can be controlled by applying forces to the left or right.\n",
    "- **Pole**: The pole is attached to the cart by a hinge and starts in an upright position. The agent's goal is to keep the pole balanced vertically.\n",
    "- **State Space**: The state space consists of the following four values:\n",
    "  1. **Cart Position**: The position of the cart on the track.\n",
    "  2. **Cart Velocity**: The velocity of the cart.\n",
    "  3. **Pole Angle**: The angle of the pole from the vertical position.\n",
    "  4. **Pole Velocity at Tip**: The velocity of the tip of the pole.\n",
    "\n",
    "- **Action Space**: The action space consists of two possible actions:\n",
    "  1. **Move Left**: Apply a force to move the cart to the left.\n",
    "  2. **Move Right**: Apply a force to move the cart to the right.\n",
    "\n",
    "- **Reward**: The agent receives a reward of +1 for each time step that the pole remains balanced (i.e., stays upright).\n",
    "\n",
    "- **Termination Condition**: The episode terminates when:\n",
    "  1. The pole angle exceeds a certain threshold (usually ±15 degrees).\n",
    "  2. The cart moves too far from the center of the track (usually beyond ±2.4 units).\n",
    "  3. The maximum number of time steps is reached (typically 500 steps).\n",
    "\n",
    "---\n",
    "\n",
    "## ⚙️ Environment Dynamics\n",
    "\n",
    "The environment is designed to simulate a dynamic system where the actions taken by the agent affect the state of the system over time. The agent learns how to balance the pole by adjusting its actions based on the state feedback (cart position, pole angle, etc.).\n",
    "\n",
    "---\n",
    "\n",
    "## 💡 Why CartPole?\n",
    "\n",
    "The CartPole environment is widely used in reinforcement learning as a benchmark for evaluating and comparing different algorithms, especially those based on **policy gradients**. It’s simple yet rich enough to test the effectiveness of RL models in control tasks.\n",
    "\n",
    "Let's dive deeper into solving this problem using the REINFORCE algorithm! 🚀\n"
   ]
  },
  {
   "cell_type": "code",
   "execution_count": 2,
   "metadata": {
    "colab": {
     "base_uri": "https://localhost:8080/"
    },
    "id": "YTGisZxqOKJZ",
    "outputId": "e334a22f-e1ba-4303-faf5-2db906572f9a"
   },
   "outputs": [
    {
     "data": {
      "text/plain": [
       "(array([ 0.0273956 , -0.00611216,  0.03585979,  0.0197368 ], dtype=float32),\n",
       " {})"
      ]
     },
     "execution_count": 2,
     "metadata": {},
     "output_type": "execute_result"
    }
   ],
   "source": [
    "env_name = 'CartPole-v1'\n",
    "env = gym.make(env_name)  # CartPole has continuous states, discrete actions\n",
    "env.reset(seed=42)"
   ]
  },
  {
   "cell_type": "markdown",
   "metadata": {},
   "source": [
    "## Creating the policy network"
   ]
  },
  {
   "cell_type": "markdown",
   "metadata": {},
   "source": [
    "Here we only use a simple FC Neural Network to represent our policy given a state. The output of this network is a probability distribution over all possible actions."
   ]
  },
  {
   "cell_type": "code",
   "execution_count": 5,
   "metadata": {
    "id": "DDbRqf3AOPMc"
   },
   "outputs": [],
   "source": [
    "class PolicyNetwork(nn.Module):\n",
    "    def __init__(self, input_dim, output_dim):\n",
    "        super(PolicyNetwork, self).__init__()\n",
    "        self.fc1 = nn.Linear(input_dim, 128)\n",
    "        self.fc2 = nn.Linear(128, output_dim)\n",
    "        self.softmax = nn.Softmax(dim=-1)\n",
    "\n",
    "    def forward(self, x):\n",
    "        x = torch.relu(self.fc1(x))\n",
    "        x = self.softmax(self.fc2(x))\n",
    "        return x"
   ]
  },
  {
   "cell_type": "markdown",
   "metadata": {},
   "source": [
    "Now we need to write down the code that trains the network by implementing REINFORCE Algorithm introduced above. Here T is the horizon, N is the number of trajectories sampled to estimate the gradient expectation, and gamma is the discount factor. The parameter lr specifies the learning rate of the gradient descent."
   ]
  },
  {
   "cell_type": "code",
   "execution_count": 6,
   "metadata": {},
   "outputs": [],
   "source": [
    "def train(policy_net, env, writer, baseline = 'None', num_episodes=1000, T=200, N=10, gamma=0.99, lr=0.01):\n",
    "    optimizer = optim.Adam(policy_net.parameters(), lr=lr)\n",
    "    \n",
    "    for episode in tqdm(range(num_episodes),colour='green'):\n",
    "        trajectories = []\n",
    "\n",
    "        # Step 1: Sample N trajectories\n",
    "        for _ in range(N):\n",
    "            state, _ = env.reset()\n",
    "            trajectory = []\n",
    "            total_reward = 0\n",
    "            done = False\n",
    "            t = 0\n",
    "            \n",
    "            while not done and t < T:\n",
    "                # Get action probabilities from the policy network\n",
    "                state_tensor = torch.tensor(state, dtype=torch.float32)\n",
    "                action_probs = policy_net(state_tensor)\n",
    "                \n",
    "                # Sample action based on probabilities\n",
    "                action = np.random.choice(len(action_probs), p=action_probs.detach().numpy())\n",
    "                \n",
    "                # Take action in the environment\n",
    "                next_state, reward, done, _, _ = env.step(action)\n",
    "                trajectory.append((state, action, reward))\n",
    "                total_reward += reward\n",
    "                \n",
    "                state = next_state\n",
    "                t += 1\n",
    "\n",
    "            # Store trajectory\n",
    "            trajectories.append((trajectory, total_reward))\n",
    "        avg_reward = np.mean([total_reward for _, total_reward in trajectories])\n",
    "        \n",
    "        writer.add_scalar('Mean Rewards', avg_reward, episode)\n",
    "        # Step 2: Calculate the total reward and discounted rewards for each trajectory\n",
    "        rewards_to_go = []\n",
    "        for trajectory, _ in trajectories:\n",
    "            discounted_rewards = []\n",
    "            cumulative_reward = 0\n",
    "            t = 0\n",
    "            # Calculate the discounted reward for each step in the trajectory\n",
    "            for (_, _, reward) in trajectory:\n",
    "                cumulative_reward = reward  +  cumulative_reward\n",
    "                discounted_rewards.insert(0, cumulative_reward)\n",
    "                t += 1\n",
    "            rewards_to_go.append(discounted_rewards)\n",
    "\n",
    "        # Step 3: Compute gradients for policy updates\n",
    "        policy_loss = 0\n",
    "        for i, (trajectory, trajectory_reward) in enumerate(trajectories):\n",
    "            log_grad_sum = 0  # Accumulate log gradients for each trajectory\n",
    "\n",
    "            # For each timestep in the trajectory\n",
    "            for t, (state, action, _) in enumerate(trajectory):\n",
    "                # Convert state to tensor and get action probabilities\n",
    "                state_tensor = torch.tensor(state, dtype=torch.float32)\n",
    "                action_probs = policy_net(state_tensor)\n",
    "                \n",
    "                # Calculate log probability of the chosen action\n",
    "                log_prob = torch.log(action_probs[action])\n",
    "                \n",
    "                # choosing the baseline value\n",
    "                alpha = 0.9\n",
    "                base_value = alpha*avg_reward + (1-alpha)*trajectory_reward\n",
    "                # Accumulate gradient of log probability\n",
    "                log_grad_sum += -log_prob * (rewards_to_go[i][0]-base_value)\n",
    "\n",
    "            # Multiply by the discounted total reward of the trajectory\n",
    "            \n",
    "            policy_loss += log_grad_sum \n",
    "\n",
    "        # Step 4: Update the policy network\n",
    "        policy_loss = policy_loss/len(trajectories)\n",
    "        optimizer.zero_grad()\n",
    "        policy_loss.backward()\n",
    "        optimizer.step()\n",
    "\n",
    "        # Optional: Print progress\n",
    "        if episode % 50 == 0:\n",
    "            print(f\"Episode {episode}, Average Reward: {avg_reward:.2f}\")\n",
    "\n"
   ]
  },
  {
   "cell_type": "markdown",
   "metadata": {},
   "source": [
    "The function below runs the simulation of the cartpole based on a given policy network \"policy_net\"."
   ]
  },
  {
   "cell_type": "code",
   "execution_count": 8,
   "metadata": {
    "id": "6vOQIOQGUE_D"
   },
   "outputs": [],
   "source": [
    "\n",
    "def run_cartpole_simulation(policy_net):\n",
    "    env = gym.make('CartPole-v1', render_mode='human')\n",
    "    state, _ = env.reset()\n",
    "    done = False\n",
    "    total_reward = 0\n",
    "\n",
    "    print(\"Press 'q' to stop the simulation.\")\n",
    "\n",
    "    try:\n",
    "        while not done:\n",
    "            # Check if 'q' is pressed to stop the simulation\n",
    "            if keyboard.is_pressed('q'):\n",
    "                print(\"Simulation interrupted by user.\")\n",
    "                break\n",
    "\n",
    "            # Convert state to tensor and get action probabilities\n",
    "            state_tensor = torch.tensor(state, dtype=torch.float32)\n",
    "            action_probs = policy_net(state_tensor)\n",
    "\n",
    "            # Choose action with the highest probability\n",
    "            action = np.argmax(action_probs.detach().numpy())\n",
    "\n",
    "            # Take action in environment\n",
    "            state, reward, done, _, _ = env.step(action)\n",
    "            total_reward += reward\n",
    "\n",
    "        # Keep the window open briefly after the simulation ends\n",
    "        time.sleep(2)\n",
    "    except KeyboardInterrupt:\n",
    "        print(\"Simulation stopped by KeyboardInterrupt.\")\n",
    "    finally:\n",
    "        env.close()\n",
    "        print(f\"Total Reward: {total_reward}\")"
   ]
  },
  {
   "cell_type": "markdown",
   "metadata": {},
   "source": [
    "Here We set up the parameters and run the training loop!"
   ]
  },
  {
   "cell_type": "code",
   "execution_count": null,
   "metadata": {
    "colab": {
     "base_uri": "https://localhost:8080/"
    },
    "id": "8PQlNMgrRb3S",
    "outputId": "73affe75-affb-4695-f47d-1ca4f3cb4afa"
   },
   "outputs": [
    {
     "name": "stderr",
     "output_type": "stream",
     "text": [
      "  0%|\u001b[32m          \u001b[0m| 1/500 [00:00<01:08,  7.30it/s]"
     ]
    },
    {
     "name": "stdout",
     "output_type": "stream",
     "text": [
      "Episode 0, Average Reward: 22.40\n"
     ]
    },
    {
     "name": "stderr",
     "output_type": "stream",
     "text": [
      " 10%|\u001b[32m█         \u001b[0m| 51/500 [00:06<01:23,  5.41it/s]"
     ]
    },
    {
     "name": "stdout",
     "output_type": "stream",
     "text": [
      "Episode 50, Average Reward: 57.70\n"
     ]
    },
    {
     "name": "stderr",
     "output_type": "stream",
     "text": [
      " 20%|\u001b[32m██        \u001b[0m| 101/500 [00:18<01:50,  3.60it/s]"
     ]
    },
    {
     "name": "stdout",
     "output_type": "stream",
     "text": [
      "Episode 100, Average Reward: 72.30\n"
     ]
    },
    {
     "name": "stderr",
     "output_type": "stream",
     "text": [
      " 30%|\u001b[32m███       \u001b[0m| 151/500 [00:49<05:26,  1.07it/s]"
     ]
    },
    {
     "name": "stdout",
     "output_type": "stream",
     "text": [
      "Episode 150, Average Reward: 294.00\n"
     ]
    },
    {
     "name": "stderr",
     "output_type": "stream",
     "text": [
      " 40%|\u001b[32m████      \u001b[0m| 201/500 [01:59<08:02,  1.61s/it]"
     ]
    },
    {
     "name": "stdout",
     "output_type": "stream",
     "text": [
      "Episode 200, Average Reward: 434.80\n"
     ]
    },
    {
     "name": "stderr",
     "output_type": "stream",
     "text": [
      " 50%|\u001b[32m█████     \u001b[0m| 251/500 [03:25<07:21,  1.77s/it]"
     ]
    },
    {
     "name": "stdout",
     "output_type": "stream",
     "text": [
      "Episode 250, Average Reward: 500.00\n"
     ]
    },
    {
     "name": "stderr",
     "output_type": "stream",
     "text": [
      " 60%|\u001b[32m██████    \u001b[0m| 301/500 [04:54<05:59,  1.81s/it]"
     ]
    },
    {
     "name": "stdout",
     "output_type": "stream",
     "text": [
      "Episode 300, Average Reward: 485.80\n"
     ]
    },
    {
     "name": "stderr",
     "output_type": "stream",
     "text": [
      " 70%|\u001b[32m███████   \u001b[0m| 351/500 [06:26<04:32,  1.83s/it]"
     ]
    },
    {
     "name": "stdout",
     "output_type": "stream",
     "text": [
      "Episode 350, Average Reward: 500.00\n"
     ]
    },
    {
     "name": "stderr",
     "output_type": "stream",
     "text": [
      " 80%|\u001b[32m████████  \u001b[0m| 401/500 [08:00<03:04,  1.86s/it]"
     ]
    },
    {
     "name": "stdout",
     "output_type": "stream",
     "text": [
      "Episode 400, Average Reward: 500.00\n"
     ]
    },
    {
     "name": "stderr",
     "output_type": "stream",
     "text": [
      " 90%|\u001b[32m█████████ \u001b[0m| 451/500 [09:33<01:32,  1.89s/it]"
     ]
    },
    {
     "name": "stdout",
     "output_type": "stream",
     "text": [
      "Episode 450, Average Reward: 500.00\n"
     ]
    },
    {
     "name": "stderr",
     "output_type": "stream",
     "text": [
      "100%|\u001b[32m██████████\u001b[0m| 500/500 [11:08<00:00,  1.34s/it]\n"
     ]
    }
   ],
   "source": [
    "input_dim = env.observation_space.shape[0]\n",
    "output_dim = env.action_space.n\n",
    "learning_rate = 0.1\n",
    "gamma = 0.98  # Discount factor\n",
    "N = 10  # Number of trajectories per update\n",
    "T = 200  # Maximum steps per trajectory\n",
    "policy_net = PolicyNetwork(input_dim, output_dim)\n",
    "optimizer = optim.Adam(policy_net.parameters(), lr=learning_rate)\n",
    "run_name = 'runs/' + env_name +'/ANN/'+datetime.now().strftime((\"%Y_%m_%d %H_%M_%S\"))\n",
    "writer = SummaryWriter(log_dir=run_name)\n",
    "train(policy_net, env, writer, num_episodes=500, T=500, N=10, gamma=0.99, lr=0.001)\n",
    "writer.close()"
   ]
  },
  {
   "cell_type": "markdown",
   "metadata": {},
   "source": [
    "And finally, we can see how well our policy is trained!!!"
   ]
  },
  {
   "cell_type": "code",
   "execution_count": 10,
   "metadata": {
    "colab": {
     "base_uri": "https://localhost:8080/"
    },
    "id": "eZmArkvHTKzh",
    "outputId": "6be953c3-ec4d-4072-b6f2-59386147d60b"
   },
   "outputs": [
    {
     "name": "stdout",
     "output_type": "stream",
     "text": [
      "Press 'q' to stop the simulation.\n",
      "Total Reward: 1090.0\n"
     ]
    }
   ],
   "source": [
    "run_cartpole_simulation(policy_net)"
   ]
  },
  {
   "cell_type": "markdown",
   "metadata": {},
   "source": [
    "To visualize the training, we use Tensorboard. you only need to open up a command shell and type:\n",
    "\n",
    "tensorboard --logdir=[where you have stored the log files]"
   ]
  },
  {
   "cell_type": "markdown",
   "metadata": {},
   "source": []
  }
 ],
 "metadata": {
  "colab": {
   "provenance": []
  },
  "kernelspec": {
   "display_name": "base",
   "language": "python",
   "name": "python3"
  },
  "language_info": {
   "codemirror_mode": {
    "name": "ipython",
    "version": 3
   },
   "file_extension": ".py",
   "mimetype": "text/x-python",
   "name": "python",
   "nbconvert_exporter": "python",
   "pygments_lexer": "ipython3",
   "version": "3.9.7"
  }
 },
 "nbformat": 4,
 "nbformat_minor": 0
}
